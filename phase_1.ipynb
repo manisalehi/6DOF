{
 "cells": [
  {
   "cell_type": "markdown",
   "id": "dff6173f",
   "metadata": {},
   "source": [
    "# Flight mechanincs 2 : Phase 1\n",
    "##### ✅Groupe name = ✈️ <br>\n",
    "##### ✅Groupe members = <b> Seyed Mani Seyed SalehiZadeh, Sarah Barati, Arshia Alizadeh </b>\n",
    "##### ✅Aircraft selected : Charlie 1\n",
    "\n",
    "---\n",
    "\n",
    "In this section of the project the model of the aircraft and the pypypysimulation is developed "
   ]
  },
  {
   "cell_type": "markdown",
   "id": "210b82dc",
   "metadata": {},
   "source": [
    "### Mass property of the Aircraft "
   ]
  },
  {
   "cell_type": "code",
   "execution_count": 17,
   "id": "e16fea14",
   "metadata": {},
   "outputs": [],
   "source": [
    "from pysim.Model import Inertia, MassProperty\n",
    "\n",
    "#The Mean Aerodyanmic chord\n",
    "MAC = 8.3\n",
    "\n",
    "#==Mass properties of the airplane==\n",
    "I = Inertia(\n",
    "    xx = 24.6e6,\n",
    "    yy = 45e6,\n",
    "    zz = 67.5e6,\n",
    "    xz = 1.32e6\n",
    ")\n",
    "\n",
    "I_apc = Inertia(\n",
    "    xx = 18.6e6,\n",
    "    yy = 41.35e6,\n",
    "    zz = 58e6,\n",
    "    xz = 1.2e6\n",
    ")\n",
    "\n",
    "massProp = MassProperty(\n",
    "    I = I,\n",
    "    m = 290_000,\n",
    "    m_apc= 250_000,         #Approach weight of the airplane\n",
    "    I_apc=I_apc,            #Approach moment of Inertia matriecs\n",
    "    CG = 0.25*MAC\n",
    ")"
   ]
  },
  {
   "cell_type": "markdown",
   "id": "daef2bd0",
   "metadata": {},
   "source": [
    "## Project information"
   ]
  },
  {
   "cell_type": "code",
   "execution_count": 18,
   "id": "b0375436",
   "metadata": {},
   "outputs": [],
   "source": [
    "from pysim.Model import Info\n",
    "\n",
    "info = Info(group_name=\"✈️\",\n",
    "            names=[\"Seyed Mani Seyed SalehiZadeh\", \"Sarah Baratti\", \"Arshia Alizadeh\"],\n",
    "            date=\"10/29/2025\",\n",
    "            airplane_name=\"Charlie 1\",\n",
    "            flight_condition=\"1\",\n",
    "            description=\"A very large, four-engined, passenger jet aircraft, Flight condition: 1\"\n",
    ")"
   ]
  },
  {
   "cell_type": "markdown",
   "id": "0ead8b43",
   "metadata": {},
   "source": [
    "## Aerodynamics"
   ]
  },
  {
   "cell_type": "code",
   "execution_count": 19,
   "id": "2ba4f778",
   "metadata": {},
   "outputs": [],
   "source": [
    "from pysim.Model import Aero, Lateral, Longitudal, StabilityDerivative\n",
    "\n",
    "#Longitudal stability derivatives\n",
    "X = StabilityDerivative(u = -0.021, w = 0.122, E = 0.292, th = 3.88e-6)\n",
    "Z = StabilityDerivative(u = -0.2,   w = -0.512, q = -1.9, E = -1.96, th = -1.69e-7)\n",
    "M = StabilityDerivative(u = 0.000036, w = -0.006, w_dot = -0.0008, q = -0.357, E = -0.378, th = 0.7e-7 )\n",
    "\n",
    "long = Longitudal(X=X, Z=Z, M=M)\n",
    "\n",
    "#lateral stability derivatives\n",
    "Y = StabilityDerivative(v=-0.089, R=0.015)\n",
    "L = StabilityDerivative(beta=-1.33, p=-0.98, r=0.33, A=0.23, R=0.06)\n",
    "N = StabilityDerivative(beta=0.17, p=-0.17, r=-0.217, A=0.026, R=-0.15)\n",
    "\n",
    "lat = Lateral(Y=Y, L=L, N=N)\n",
    "\n",
    "aero = Aero(\n",
    "    lat = lat,\n",
    "    long = long\n",
    ")\n",
    "\n"
   ]
  },
  {
   "cell_type": "markdown",
   "id": "0c7b5c7b",
   "metadata": {},
   "source": [
    "## Flight condition"
   ]
  },
  {
   "cell_type": "code",
   "execution_count": 20,
   "id": "727bf66e",
   "metadata": {},
   "outputs": [],
   "source": [
    "from pysim.Model import FlightCondition\n",
    "\n",
    "#Flight condition\n",
    "flightCond = FlightCondition(\n",
    "    H = 0,\n",
    "    Mach= 0.198,\n",
    "    U0 = 67,\n",
    "    q_inf = 2810,\n",
    "    alpha0 = 8.5,\n",
    "    gama0 = 0\n",
    ")"
   ]
  },
  {
   "cell_type": "markdown",
   "id": "9d738130",
   "metadata": {},
   "source": [
    "## Final setup"
   ]
  },
  {
   "cell_type": "code",
   "execution_count": 21,
   "id": "9a681c3e",
   "metadata": {},
   "outputs": [],
   "source": [
    "from pysim.Model import Airplane\n",
    "from pysim.Simulator import Sim\n",
    "\n",
    "airplane = Airplane(aero=aero, massprop=massProp, info=info, S=510, AR=7, c=8.3, T_total=900, l_x_p = 26.2, l_z_p=-3.05)\n",
    "\n",
    "sim = Sim(airplane = airplane, flightCond = flightCond )"
   ]
  },
  {
   "cell_type": "markdown",
   "id": "297de682",
   "metadata": {},
   "source": [
    "## Saving the simulation setup"
   ]
  },
  {
   "cell_type": "code",
   "execution_count": 22,
   "id": "d546c12c",
   "metadata": {},
   "outputs": [],
   "source": [
    "from pysim.Simulator import saveInfo\n",
    "\n",
    "saveInfo(sim)\n"
   ]
  },
  {
   "cell_type": "markdown",
   "id": "6a8bf215",
   "metadata": {},
   "source": [
    "## Loading the simulation setup"
   ]
  },
  {
   "cell_type": "code",
   "execution_count": 23,
   "id": "36a61d02",
   "metadata": {},
   "outputs": [],
   "source": [
    "from pysim.Simulator import load\n",
    "\n",
    "sim2 = load()\n"
   ]
  },
  {
   "cell_type": "markdown",
   "id": "af7e29b5",
   "metadata": {},
   "source": [
    "## Checking the loading process was successful "
   ]
  },
  {
   "cell_type": "code",
   "execution_count": 24,
   "id": "43c78ab3",
   "metadata": {},
   "outputs": [
    {
     "name": "stdout",
     "output_type": "stream",
     "text": [
      "The airplane data has not changed:  True\n",
      "The flight condition has not changed:  True\n"
     ]
    }
   ],
   "source": [
    "print(\"The airplane data has not changed: \" , sim2.airplane == sim.airplane)\n",
    "print(\"The flight condition has not changed: \", sim2.flightCond == sim.flightCond)"
   ]
  }
 ],
 "metadata": {
  "kernelspec": {
   "display_name": "env",
   "language": "python",
   "name": "python3"
  },
  "language_info": {
   "codemirror_mode": {
    "name": "ipython",
    "version": 3
   },
   "file_extension": ".py",
   "mimetype": "text/x-python",
   "name": "python",
   "nbconvert_exporter": "python",
   "pygments_lexer": "ipython3",
   "version": "3.12.5"
  }
 },
 "nbformat": 4,
 "nbformat_minor": 5
}
